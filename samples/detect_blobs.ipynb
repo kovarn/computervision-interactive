{
 "cells": [
  {
   "cell_type": "code",
   "execution_count": null,
   "metadata": {},
   "outputs": [],
   "source": [
    "\"\"\"\n",
    "Detect blobs from input image.\n",
    "\"\"\"\n",
    "\n",
    "import sys\n",
    "sys.path.append('..')\n",
    "\n",
    "import cv2\n",
    "from matplotlib import pyplot as plt\n",
    "from nltk.tree import *\n",
    "\n",
    "from cv_interactive.operations import ApplyOperations\n",
    "from cv_interactive.utils import imshow\n",
    "\n",
    "# if __name__ == '__main__':\n",
    "    "
   ]
  },
  {
   "cell_type": "code",
   "execution_count": null,
   "metadata": {},
   "outputs": [],
   "source": [
    "image_path = \"cells.jpg\"\n",
    "\n",
    "# interactive_mode = False\n",
    "interactive_mode = True\n",
    "\n",
    "ops_tree = ParentedTree.fromstring(\"\"\"\n",
    "    (roi 50,50,1\n",
    "     (2-2-blend2 0.3)\n",
    "     (2-2-fgonbg\n",
    "      (1-2-blend2)\n",
    "     )\n",
    "     (kuwahara 3\n",
    "      (erode 10\n",
    "       (adaptive_threshold mean binary_inv 19 7\n",
    "        (erode 7\n",
    "         (components_with_stats\n",
    "          (1-2-fgonbg)\n",
    "         )\n",
    "        )\n",
    "       )\n",
    "      )\n",
    "     )\n",
    "    )\n",
    "    \"\"\", node_pattern=r\"[^()\\n]*\")"
   ]
  },
  {
   "cell_type": "code",
   "execution_count": null,
   "metadata": {},
   "outputs": [],
   "source": [
    "src = cv2.imread(image_path, cv2.IMREAD_GRAYSCALE)\n",
    "plt.axis('off')\n",
    "# imshow(src)\n",
    "# plt.show()\n",
    "\n",
    "apply_ops = ApplyOperations(interactive_mode)\n",
    "outputs = list(apply_ops.applyops(ops_tree, src))\n",
    "\n",
    "num_blobs = outputs[-3].control_widget.result[1] - 1 if interactive_mode else outputs[-3][1] - 1\n",
    "print(str(num_blobs) + ' blobs detected.')\n",
    "\n",
    "if not interactive_mode:\n",
    "    imshow(outputs[-1][0])\n",
    "    plt.show()"
   ]
  },
  {
   "cell_type": "code",
   "execution_count": null,
   "metadata": {},
   "outputs": [],
   "source": []
  }
 ],
 "metadata": {
  "anaconda-cloud": {},
  "git": {
   "suppress_outputs": true
  },
  "kernelspec": {
   "display_name": "Python [conda env:Road]",
   "language": "python",
   "name": "conda-env-Road-py"
  },
  "language_info": {
   "codemirror_mode": {
    "name": "ipython",
    "version": 3
   },
   "file_extension": ".py",
   "mimetype": "text/x-python",
   "name": "python",
   "nbconvert_exporter": "python",
   "pygments_lexer": "ipython3",
   "version": "3.5.2"
  }
 },
 "nbformat": 4,
 "nbformat_minor": 1
}